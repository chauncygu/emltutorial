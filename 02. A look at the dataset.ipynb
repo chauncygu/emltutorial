{
 "cells": [
  {
   "cell_type": "markdown",
   "metadata": {},
   "source": [
    "# A Look at the Dataset\n",
    "\n",
    "Before starting in earnest with Machine Learning it is worth having a look at the dataset.\n",
    "\n",
    "This will give us a chance to assess our hopes of survival: after all, we have simulated a lot of configurations and we can get an idea of how many of them are working. In general, it is important to get a feeling of how our target system (i.e. the zombie horde) works, so that we will be better able to shape ideas and spot mistakes."
   ]
  },
  {
   "cell_type": "markdown",
   "metadata": {},
   "source": [
    "## Loading the Data\n",
    "\n",
    "Let's start from the basics, i.e. reading the data from the `za_data.csv` file. For this task we will rely [on the pandas module](), which provides efficient and convenient functions to work with large datasets. We will use [the matplotlib module]() for drawing charts."
   ]
  },
  {
   "cell_type": "code",
   "execution_count": null,
   "metadata": {},
   "outputs": [],
   "source": [
    "%matplotlib inline\n",
    "import numpy as np\n",
    "import pandas as pd\n",
    "from matplotlib import pyplot as plt\n",
    "import os"
   ]
  },
  {
   "cell_type": "code",
   "execution_count": null,
   "metadata": {},
   "outputs": [],
   "source": [
    "# Load data\n",
    "data_fname = os.path.join('data', 'za_data.csv')\n",
    "data = pd.read_csv(data_fname)\n",
    "data.head()"
   ]
  },
  {
   "cell_type": "markdown",
   "metadata": {},
   "source": [
    "The columns of the pandas DataFrame (mosly) correspond to input and outputs of the simulator.\n",
    "\n",
    "Let's show some basic statistics for each of them:"
   ]
  },
  {
   "cell_type": "code",
   "execution_count": null,
   "metadata": {},
   "outputs": [],
   "source": [
    "data.describe()"
   ]
  },
  {
   "cell_type": "markdown",
   "metadata": {},
   "source": [
    "It is useful at this point to summarize some pieces of information that are important for our setup, such as the actual names of the simulator input/output, their numbers, their default values, and the population size:"
   ]
  },
  {
   "cell_type": "code",
   "execution_count": null,
   "metadata": {},
   "outputs": [],
   "source": [
    "# Some meta-information\n",
    "sim_in = ['edge_ratio', 'inf_prob', 'act_rate', 'rec_rate', 'ds_rate', 'di_rate']\n",
    "sim_out = ['i_num', 'survivors']\n",
    "n_in = len(sim_in)\n",
    "n_out = len(sim_out)\n",
    "in_defaults = [0.004, 0.7, 3, 0, 0.05, 0.00]\n",
    "pop_size = 500"
   ]
  },
  {
   "cell_type": "markdown",
   "metadata": {},
   "source": [
    "If we group the data by input value, we can verify that the dataset has indeed been obtained via a factorial design:"
   ]
  },
  {
   "cell_type": "code",
   "execution_count": null,
   "metadata": {},
   "outputs": [],
   "source": [
    "data.groupby(sim_in)[['num']].count()"
   ]
  },
  {
   "cell_type": "markdown",
   "metadata": {},
   "source": [
    "## Estimating our Odds (Roughly)\n",
    "\n",
    "We can then have a look at the distribution of some of our Key Performance Indicators, such as the number of survivors and zombies. This will give us an idea of how many times the input configurations that we tested led to satisfactory results: it is a rough way to estimate how challenging it is to come up with a solution for our problem. "
   ]
  },
  {
   "cell_type": "code",
   "execution_count": null,
   "metadata": {},
   "outputs": [],
   "source": [
    "# Compute a new column (number of survivors)\n",
    "data['survivors'] = data['s_num'] + data['r_num']\n",
    "\n",
    "# Plot a a few distribution\n",
    "nbins = 20\n",
    "plt.figure(figsize=(15, 9))\n",
    "# --- Susceptibles\n",
    "plt.subplot(411)\n",
    "plt.title('Number of survivors')\n",
    "plt.hist(data.survivors, bins=nbins, density=True)\n",
    "# --- Infected\n",
    "plt.subplot(412)\n",
    "plt.title('Number of zombies')\n",
    "plt.hist(data.i_num, bins=nbins, density=True)\n",
    "# --- Total\n",
    "plt.subplot(413)\n",
    "plt.title('Number of individuals')\n",
    "plt.hist(data.num, bins=nbins, density=True)\n",
    "plt.tight_layout()"
   ]
  },
  {
   "cell_type": "markdown",
   "metadata": {},
   "source": [
    "Surprisingly, things don't look too bad: while veritable pandemics and massive dieoffs are a concrete possibility, in many cases the number of survivors is very large.\n",
    "\n",
    "We have a fighting chance!\n",
    "\n",
    "Just don't get too excited: so far, we are **assuming to have complete control on the system input**. In practice, of course, we will control the inputs only indirectly (through our preparation measures) and **there will be constraints** (e.g. the limited budget)."
   ]
  },
  {
   "cell_type": "markdown",
   "metadata": {},
   "source": [
    "Next, let's have a look at the effect of each individual parameters on the number of survivors, using 2d histograms:"
   ]
  },
  {
   "cell_type": "code",
   "execution_count": null,
   "metadata": {},
   "outputs": [],
   "source": [
    "# Effect of the input parameters in the number of survivorss\n",
    "nrows = int(np.ceil(n_in / 3))\n",
    "plt.figure(figsize=(15, 5*nrows))\n",
    "for i, in_name in enumerate(sim_in):\n",
    "    plt.subplot(nrows, 3, i+1)\n",
    "    plt.hist2d(data[in_name], data['survivors'], cmap='Blues')\n",
    "    plt.xlabel(in_name)\n",
    "    plt.ylabel('survivors')"
   ]
  },
  {
   "cell_type": "markdown",
   "metadata": {},
   "source": [
    "Some parameters have a rather clear impact (e.g. `edge.ratio`, `inf.prob`, `act.rate` and in particular `ds.rate`). However, no input paramter by itself is enough to give a very good prediction.\n",
    "\n",
    "And now the number of zombies:"
   ]
  },
  {
   "cell_type": "code",
   "execution_count": null,
   "metadata": {},
   "outputs": [],
   "source": [
    "# Effect of the input parameters in the number of zombies\n",
    "nrows = int(np.ceil(n_in / 3))\n",
    "plt.figure(figsize=(15, 5*nrows))\n",
    "for i, in_name in enumerate(sim_in):\n",
    "    plt.subplot(nrows, 3, i+1)\n",
    "    plt.hist2d(data[in_name], data['i_num'], cmap='Oranges')\n",
    "    plt.xlabel(in_name)\n",
    "    plt.ylabel('zombies')"
   ]
  },
  {
   "cell_type": "markdown",
   "metadata": {},
   "source": [
    "The number of zombies is low in most cases, but it can grow pretty large. Here `edge.ratio` has the most dramatic impact: a very low value is by itself enough to ensure a rather small number of brain eaters. Unfortunately, avoiding encounters in a working place and tight confines is not an easy thing to do in practice, so reducing `edge.ratio` that much will be a challenge."
   ]
  },
  {
   "cell_type": "markdown",
   "metadata": {},
   "source": [
    "## Preparing the Training Dataset\n",
    "\n",
    "We can now split our data into a training, validation, and test set:"
   ]
  },
  {
   "cell_type": "code",
   "execution_count": null,
   "metadata": {},
   "outputs": [],
   "source": [
    "# Row indices\n",
    "snum = len(data)\n",
    "sidx = np.arange(snum, dtype=int)\n",
    "\n",
    "# Shuffle\n",
    "np.random.seed(42)\n",
    "np.random.shuffle(sidx)\n",
    "\n",
    "# Define the separators\n",
    "sep1 = int(snum * 2/3)\n",
    "sep2 = int(snum * 5/6)\n",
    "sidx_tr = sidx[:sep1]\n",
    "sidx_vl = sidx[sep1:sep2]\n",
    "sidx_ts = sidx[sep2:]\n",
    "\n",
    "# Split the dataset\n",
    "data_tr = data.iloc[sidx_tr]\n",
    "data_vl = data.iloc[sidx_vl]\n",
    "data_ts = data.iloc[sidx_ts]"
   ]
  },
  {
   "cell_type": "markdown",
   "metadata": {},
   "source": [
    "We proceed to standardize the inputs and normalize the output, as it will come in handy when learning ML models: "
   ]
  },
  {
   "cell_type": "code",
   "execution_count": null,
   "metadata": {},
   "outputs": [],
   "source": [
    "# Standardize inputs\n",
    "means_in = data_tr[sim_in].mean(axis=0)\n",
    "stds_in = data_tr[sim_in].std(axis=0)\n",
    "data_tr[sim_in] = (data_tr[sim_in] - means_in) / stds_in\n",
    "data_vl[sim_in] = (data_vl[sim_in] - means_in) / stds_in\n",
    "data_ts[sim_in] = (data_ts[sim_in] - means_in) / stds_in\n",
    "\n",
    "# Standardize output\n",
    "data_tr[sim_out] /= pop_size\n",
    "data_vl[sim_out] /= pop_size\n",
    "data_ts[sim_out] /= pop_size"
   ]
  },
  {
   "cell_type": "markdown",
   "metadata": {},
   "source": [
    "Then, let's store everything in a more convenient format:"
   ]
  },
  {
   "cell_type": "code",
   "execution_count": null,
   "metadata": {},
   "outputs": [],
   "source": [
    "# Store into an HDF5 archive\n",
    "hdf_fname = os.path.join('shared', 'za_processed.h5')\n",
    "with pd.HDFStore(hdf_fname, 'w') as store:\n",
    "    store['data'] = data\n",
    "    store['data_tr'] = data_tr\n",
    "    store['data_vl'] = data_vl\n",
    "    store['data_ts'] = data_ts\n",
    "    store['means_in'] = means_in\n",
    "    store['stds_in'] = stds_in\n",
    "    store['sim_in'] = pd.Series(sim_in)\n",
    "    store['sim_out'] = pd.Series(sim_out)\n",
    "    store['in_defaults'] = pd.Series(index=sim_in, data=in_defaults)\n",
    "    store['meta'] = pd.Series(index=['pop_size'], data=[pop_size])"
   ]
  }
 ],
 "metadata": {
  "kernelspec": {
   "display_name": "Python 3",
   "language": "python",
   "name": "python3"
  },
  "language_info": {
   "codemirror_mode": {
    "name": "ipython",
    "version": 3
   },
   "file_extension": ".py",
   "mimetype": "text/x-python",
   "name": "python",
   "nbconvert_exporter": "python",
   "pygments_lexer": "ipython3",
   "version": "3.6.5"
  }
 },
 "nbformat": 4,
 "nbformat_minor": 2
}
