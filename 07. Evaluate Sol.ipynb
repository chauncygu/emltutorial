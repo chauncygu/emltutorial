{
 "cells": [
  {
   "cell_type": "markdown",
   "metadata": {},
   "source": [
    "# Evaluating a Solution\n",
    "\n",
    "Now, let's copy our solution in the `sol` variable in the cell below an run it. Remember that the simulation is stochastic, so it's a good idea to make some attempts and see what happens:"
   ]
  },
  {
   "cell_type": "code",
   "execution_count": null,
   "metadata": {},
   "outputs": [],
   "source": [
    "# Load simulation function\n",
    "source('sim.R')\n",
    "\n",
    "# Default setup\n",
    "#sol = c(0.004, 0.700, 3.000, 0.000, 0.050, 0.000)\n",
    "\n",
    "# Paste the evaluation string\n",
    "sol = c(0.002, 0.500, 4.800, 0.030, 0.023, 0.220)\n",
    "\n",
    "here.they.come(edge.ratio=sol[1], inf.prob=sol[2], act.rate=sol[3], rec.rate=sol[4],\n",
    "     ds.rate=sol[5], di.rate=sol[6])"
   ]
  },
  {
   "cell_type": "markdown",
   "metadata": {},
   "source": [
    "I don't know about you, but the doomsday scenario is still a bit too much likely for my taste..."
   ]
  },
  {
   "cell_type": "markdown",
   "metadata": {},
   "source": [
    "## What is Going on?\n",
    "\n",
    "There are two distinct, but related, issues here:\n",
    "\n",
    "1. The ML model is handled by an optimization solver, which my end up finding a \"weak spot\" in the approximation, e.g. an input configuration for which the prediction is particularly off.\n",
    "2. Sometimes, the most typical task specification in Machine Learning are not the best suited once the ML model is handled by a solver.\n",
    "\n",
    "Ideally, the first issue should be dealt with via active learning: so far this has never been employed in the context of EML, so this is an open research topic!\n",
    "\n",
    "The second issue is well investigated in this paper by [Zico Kolter et al.](https://arxiv.org/abs/1703.04529): the approach they propose, however, does not scale well "
   ]
  }
 ],
 "metadata": {
  "kernelspec": {
   "display_name": "R",
   "language": "R",
   "name": "ir"
  },
  "language_info": {
   "codemirror_mode": "r",
   "file_extension": ".r",
   "mimetype": "text/x-r-source",
   "name": "R",
   "pygments_lexer": "r",
   "version": "3.5.1"
  }
 },
 "nbformat": 4,
 "nbformat_minor": 2
}
