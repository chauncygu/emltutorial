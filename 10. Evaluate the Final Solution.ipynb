{
 "cells": [
  {
   "cell_type": "markdown",
   "metadata": {},
   "source": [
    "# Evaluating a Solution\n",
    "\n",
    "Now, let's copy our solution in the `sol` variable in the cell below an run it. Remember that the simulation is stochastic, so it's a good idea to make some attempts and see what happens:"
   ]
  },
  {
   "cell_type": "code",
   "execution_count": null,
   "metadata": {},
   "outputs": [],
   "source": [
    "# Load simulation function\n",
    "source('sim.R')\n",
    "\n",
    "# Default setup\n",
    "#sol = c(0.004, 0.700, 3.000, 0.000, 0.050, 0.000)\n",
    "\n",
    "# Paste the evaluation string\n",
    "sol = c(0.002, 0.330, 1.000, 0.000, 0.000, 0.170)\n",
    "#sol = c(0.002, 0.330, 0.700, 0.000, 0.000, 0.110)\n",
    "\n",
    "here.they.come(edge.ratio=sol[1], inf.prob=sol[2], act.rate=sol[3], rec.rate=sol[4],\n",
    "     ds.rate=sol[5], di.rate=sol[6])"
   ]
  },
  {
   "cell_type": "markdown",
   "metadata": {},
   "source": [
    "And we finally win!"
   ]
  }
 ],
 "metadata": {
  "kernelspec": {
   "display_name": "R",
   "language": "R",
   "name": "ir"
  },
  "language_info": {
   "codemirror_mode": "r",
   "file_extension": ".r",
   "mimetype": "text/x-r-source",
   "name": "R",
   "pygments_lexer": "r",
   "version": "3.6.1"
  }
 },
 "nbformat": 4,
 "nbformat_minor": 2
}
