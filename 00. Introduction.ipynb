{
 "cells": [
  {
   "cell_type": "markdown",
   "metadata": {},
   "source": [
    "# About this Tutorial\n",
    "\n",
    "This tutorial will show how the Empirical Model Learning methodology can be applied to a complex \"real-world\" case study.\n",
    "\n",
    "More specifically, are you ready to...\n",
    "\n",
    "![Picture from https://marcelopellegrini.wordpress.com/2013/12/05/hundreds-of-zombies-take-control-of-london/](assets/zombies_in_london.jpg)\n",
    "\n",
    "Using the zombie joke, we will learn ho to use EML and the EMLlib to:\n",
    "\n",
    "* Learn a Machine Learning to approximate the input-output relation in a complex system\n",
    "* Embed the trained model into an optimization problem\n",
    "* Tips and tricks to make the approach actually works\n",
    "* Lots of open research questions!\n",
    "\n",
    "Note that preparing for (real) epidemics is also a challenging and very relevant problem in practice, so getting rid of pesky brain eaters is not the only thing we are about to learn :-) Keep in mind, however, that true epidemic control problems will be far more complicated than the simple example considered in this tutorial."
   ]
  },
  {
   "cell_type": "markdown",
   "metadata": {},
   "source": [
    "## The Setup\n",
    "\n",
    "A little bit out of town, our super-secret organization is running a super-secret lab that deals in some questionable biological experiments. Said experiments are prone to give birth to an overly contagious zombie virus, with a mild chance of destroing the civilized world in the process.\n",
    "\n",
    "* The lab counts **around 500 workers**, all with everyday jobs such as custodians, accountants, janitors, and mad bioengineering geniuses.\n",
    "* There is **a chance that the experiments in the lab will trigger a single initial infection of a virus that turns the victim into an aggressive, mindless, brain eater.\n",
    "* We can prepare for this unfortunate event by training our staff, providing them with special equipment, making changes to the lab building, and simply establishing policies.\n",
    "* There is also a cure (now would you really work on a zombie virus unless you had one?), which has the added benefit of immunizing the patient, in case of recovery. The downside is that cure does not always work, and that it needs to be administered to not-exactly collaborating patients.\n",
    "\n",
    "Each of this measures has a cost, and we have a limited budget. If there are too many zombie by the end of one week, we will not be able to contain the epidemic. If there are no survivors by the end of one week... well, that's not exactly a good thing either."
   ]
  },
  {
   "cell_type": "markdown",
   "metadata": {},
   "source": [
    "## The Plan\n",
    "\n",
    "Our setup may be fictional, but the kind of problem that we are trying to tackle is has far reaching practical implications. Summarizing:\n",
    "\n",
    "* We have an optimization problem (we need how to prepare, using limited resources)\n",
    "* The problem is defined on a system (the spreading zombie plague) that cannot be charaterized via a simple input-output equation.\n",
    "\n",
    "The latter point makes the problem difficult to tackle via conventional, expert-driven, modeling approaches.\n",
    "\n",
    "We can however resort to Machine Learning: if we collect enough data, we learn an approximate an input-output relation (say characteristics of the lab vs number of zombies in one week); then, we can embed the ML model into our optimization model and use our solver and technology of choice to get a solution.\n",
    "\n",
    "So, here's the plan:\n",
    "\n",
    "* We need data\n",
    "* We need to train an ML model\n",
    "* We need to understand how to embed it into an optimization model\n",
    "* We need to formulate the resto of the problem\n",
    "\n",
    "And then let's hope that we can stave doomsday :-)"
   ]
  }
 ],
 "metadata": {
  "kernelspec": {
   "display_name": "Python 3",
   "language": "python",
   "name": "python3"
  },
  "language_info": {
   "codemirror_mode": {
    "name": "ipython",
    "version": 3
   },
   "file_extension": ".py",
   "mimetype": "text/x-python",
   "name": "python",
   "nbconvert_exporter": "python",
   "pygments_lexer": "ipython3",
   "version": "3.6.5"
  }
 },
 "nbformat": 4,
 "nbformat_minor": 2
}
