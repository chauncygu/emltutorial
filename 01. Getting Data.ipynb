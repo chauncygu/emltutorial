{
 "cells": [
  {
   "cell_type": "markdown",
   "metadata": {},
   "source": [
    "# Getting Data\n",
    "\n",
    "In several cases, we have access to historical data about the behavior of the complex system that we want to model. This was the case for [Google a few years ago](https://static.googleusercontent.com/media/research.google.com/en//pubs/archive/42542.pdf) and [led to considerable energy savings later on](https://deepmind.com/blog/deepmind-ai-reduces-google-data-centre-cooling-bill-40/).\n",
    "\n",
    "In our case, unfortunately (?!?) historical data about zombie virus outbreaks are not available. This tends to happen when the scenario that we need to deal with is somthing that really shoudl not happen, such as an expensive machine breaking or the downfall of humanity.\n",
    "\n",
    "In such situation, **it is often useful to resort to a simulator**.\n",
    "\n",
    "For this tutorial we will use [the excellent R-package EpiModel](http://www.epimodel.org), which can simulate an infectious disease spreading over a dynamic network."
   ]
  },
  {
   "cell_type": "markdown",
   "metadata": {},
   "source": [
    "## Simulator Configuration\n",
    "\n",
    "Just to given an intuition of how the simulator (configured for our needs) works:\n",
    "\n",
    "* The nodes of the network will be our lab workers, which can be healthy or infected\n",
    "* The arcs represent encounters, which arise and disappear randomly\n",
    "* For every enconters, there may be several interactions\n",
    "* Each interaction with an infected (e.g. an attack) may lead to infection\n",
    "* At each step, some of the workers (healthy and infected) may die\n",
    "* At each step, some of the infected may recover\n",
    "\n",
    "More in detail, the simlator is controlled by six parameters:\n",
    "\n",
    "* `edge.ratio`, representing the average fraction of the maximum number of edges that is present in the network at each step\n",
    "* `act.rate`, i.e. the average number of interactions per edge\n",
    "* `inf.prob`, i.e. the infection probability per interaction\n",
    "* `ds.rate`, i.e. is the mortality rate for healty workers\n",
    "* `di.rate`, i.e. is the mortality rate for the infected\n",
    "* `rec.rate`, i.e. the recovery rate\n",
    "\n",
    "We will run the simulator for one week with a population of 500 individual and a single initial infection case.\n",
    "\n",
    "The main outputs are:\n",
    "\n",
    "* The final number of healty (susceptible or recovered) individuals (i.e. the survivors)\n",
    "* The final number of infected\n",
    "\n",
    "The process is stochastic, so different runs may lead to different results.\n",
    "\n",
    "It is important to realize that **the simulator inputs are not the same as the decisions in out optimization problem**. They represent instead *features* that describe the target system."
   ]
  },
  {
   "cell_type": "markdown",
   "metadata": {},
   "source": [
    "## How Bad is It?\n",
    "\n",
    "As default values we assume:\n",
    "\n",
    "* `edge.ratio = 0.004`, moderately frequent encounters\n",
    "* `act.rate = 3`, since our staff is not trained\n",
    "* `inf.prob = 0.7`, again to lack of training and the strength of the virus\n",
    "* `ds.rate=0.05`, since the zombies also eat brains\n",
    "* `di.rate=0.0`, no hope down them unless we train & equip our staff\n",
    "* `rec.rate=0.0`, no hope for recovery unless we equipe our staff with cure shots\n",
    "\n",
    "Let's have a look at our odds:"
   ]
  },
  {
   "cell_type": "code",
   "execution_count": null,
   "metadata": {
    "scrolled": false
   },
   "outputs": [],
   "source": [
    "# Load simulation function\n",
    "source('sim.R')\n",
    "\n",
    "# Default setup\n",
    "sol = c(0.004, 0.700, 3.000, 0.000, 0.050, 0.000)\n",
    "\n",
    "# Run the simulator\n",
    "here.they.come(edge.ratio=sol[1], inf.prob=sol[2], act.rate=sol[3], rec.rate=sol[4],\n",
    "     ds.rate=sol[5], di.rate=sol[6])"
   ]
  },
  {
   "cell_type": "markdown",
   "metadata": {},
   "source": [
    "**We. Are. Doomed. :-(**\n",
    "\n",
    "But then, where would the challenge be? ;-)"
   ]
  },
  {
   "cell_type": "markdown",
   "metadata": {},
   "source": [
    "## Getting Data\n",
    "\n",
    "Remember that our goal is to approximate the input-output relation of our system, i.e. to estimate how the edge ratio etc. correlate with the number of survivors and infected.\n",
    "\n",
    "We can do this by running the simulator with different parameter configuration and collecting the results. The next cell shows how to do it:"
   ]
  },
  {
   "cell_type": "code",
   "execution_count": null,
   "metadata": {},
   "outputs": [],
   "source": [
    "source('gendata.R')\n",
    "\n",
    "gen.data(stop.after=1, verbose=FALSE)"
   ]
  },
  {
   "cell_type": "markdown",
   "metadata": {},
   "source": [
    "The function will consider several input configurations according to a factorial design: for each parameter it will test a limited range of values and run 30 simulations. The results are saved by default to a file called `results.csv`.\n",
    "\n",
    "Each simulatio takes a few seconds, and so the whole process can be very time consuming. Thankfully, the final results are already available in the `za_data.csv` file, in the `shared` directory."
   ]
  }
 ],
 "metadata": {
  "kernelspec": {
   "display_name": "R",
   "language": "R",
   "name": "ir"
  },
  "language_info": {
   "codemirror_mode": "r",
   "file_extension": ".r",
   "mimetype": "text/x-r-source",
   "name": "R",
   "pygments_lexer": "r",
   "version": "3.5.1"
  }
 },
 "nbformat": 4,
 "nbformat_minor": 2
}
